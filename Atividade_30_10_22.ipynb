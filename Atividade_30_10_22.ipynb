{
  "nbformat": 4,
  "nbformat_minor": 0,
  "metadata": {
    "colab": {
      "provenance": [],
      "collapsed_sections": []
    },
    "kernelspec": {
      "name": "python3",
      "display_name": "Python 3"
    },
    "language_info": {
      "name": "python"
    }
  },
  "cells": [
    {
      "cell_type": "markdown",
      "source": [
        "# Atividade avaliativa - Desenvolvendo soluções de Machine Learning\n",
        "**Atividade proposta** \n",
        "\n",
        "Desenvolver duas IAs que com base em um DataSet consigua identificar a probabilidade de um individuo vota em um dos partidos ('Direita', 'Centro-esquerda' ou 'Centro')\n",
        "\n",
        "*Professor Dimmy Magalhães - dimmy.magalhaes@somosicev.com *"
      ],
      "metadata": {
        "id": "Z1jzrOrxpDOg"
      }
    },
    {
      "cell_type": "markdown",
      "source": [
        "Para responder as atividade utilizei as estratégais KNN e um Classificador com base em uma Rede Neural, ambos da biblioteca SKLearn  "
      ],
      "metadata": {
        "id": "MdFhy-CLqVES"
      }
    },
    {
      "cell_type": "code",
      "execution_count": null,
      "metadata": {
        "colab": {
          "base_uri": "https://localhost:8080/"
        },
        "id": "EfFL2nNeNAQR",
        "outputId": "a6c2e163-7d70-408c-ddc3-d15688db8063"
      },
      "outputs": [
        {
          "output_type": "stream",
          "name": "stdout",
          "text": [
            "Usando Seed = 1887\n"
          ]
        },
        {
          "output_type": "execute_result",
          "data": {
            "text/plain": [
              "Index(['Unnamed: 0', 'ZONA', 'SEÇÃO', 'CD_MUNICIPIO', 'MUNICIPIO',\n",
              "       'ANO_ELEICAO', 'UF', 'FEMININO', 'MASCULINO', 'GÊNERO NÃO INFORMADO',\n",
              "       'CASADO', 'DIVORCIADO', 'ESTADO CIVIL NÃO INFORMADO',\n",
              "       'SEPARADO JUDICIALMENTE', 'SOLTEIRO', 'VIÚVO', 'Idade 100 anos ou mais',\n",
              "       'Idade 16 anos', 'Idade 17 anos', 'Idade 18 anos', 'Idade 19 anos',\n",
              "       'Idade 20 anos', 'Idade 21 a 24 anos', 'Idade 25 a 29 anos',\n",
              "       'Idade 30 a 34 anos', 'Idade 35 a 39 anos', 'Idade 40 a 44 anos',\n",
              "       'Idade 45 a 49 anos', 'Idade 50 a 54 anos', 'Idade 55 a 59 anos',\n",
              "       'Idade 60 a 64 anos', 'Idade 65 a 69 anos', 'Idade 70 a 74 anos',\n",
              "       'Idade 75 a 79 anos', 'Idade 80 a 84 anos', 'Idade 85 a 89 anos',\n",
              "       'Idade 90 a 94 anos', 'Idade 95 a 99 anos', 'Idade Inválido',\n",
              "       'ANALFABETO', 'ENSINO FUNDAMENTAL COMPLETO',\n",
              "       'ENSINO FUNDAMENTAL INCOMPLETO', 'ENSINO MÉDIO COMPLETO',\n",
              "       'ENSINO MÉDIO INCOMPLETO', 'LÊ E ESCREVE', 'NÃO INFORMADO',\n",
              "       'SUPERIOR COMPLETO', 'SUPERIOR INCOMPLETO', 'TOTAL_ELEITORES',\n",
              "       'ESPECTRO POLITICO', 'TOTAL_VOTOS'],\n",
              "      dtype='object')"
            ]
          },
          "metadata": {},
          "execution_count": 1
        }
      ],
      "source": [
        "# Importação de Bibliotecas que serão necessárias no decorrer da atividade\n",
        "import pandas as pd \n",
        "import numpy as np \n",
        "import random\n",
        "# procedimento para transformar os registros texto em números \n",
        "from sklearn.preprocessing import OneHotEncoder\n",
        "# Importes das ML\n",
        "from sklearn.neighbors import KNeighborsClassifier\n",
        "from sklearn.neural_network import MLPClassifier\n",
        "# Para métrica  serão utilizados Accuracy e F1score(para classificadores) \n",
        "from sklearn.metrics import accuracy_score, f1_score, plot_confusion_matrix\n",
        "# para lidar com a divisão dos dados \n",
        "from sklearn.model_selection import StratifiedKFold\n",
        "\n",
        "# Realiza a leitura do Arquivo\n",
        "dados = pd.read_csv(\"dataset_eleitoral.csv\", sep=\";\")\n",
        "\n",
        "# Cria SEED padrão para futuros testes  \n",
        "seed = random.randint(0, 2000)\n",
        "print(f\"Usando Seed = {seed}\")\n",
        "random.seed(seed)\n",
        "\n",
        "# Visualizar as colunas importadas do arquivo \n",
        "dados.columns"
      ]
    },
    {
      "cell_type": "code",
      "source": [
        "# Consultar qual é a divisão da quantidade de registros na coluna 'ESPECTRO POLITICO'\n",
        "dados['ESPECTRO POLITICO'].value_counts()"
      ],
      "metadata": {
        "colab": {
          "base_uri": "https://localhost:8080/"
        },
        "id": "1poO7ib-Q0jQ",
        "outputId": "0414eca4-9316-4457-d6bb-3943bbbfc7e0"
      },
      "execution_count": null,
      "outputs": [
        {
          "output_type": "execute_result",
          "data": {
            "text/plain": [
              "Centro-esquerda    6245\n",
              "Direita            2605\n",
              "Centro               58\n",
              "Name: ESPECTRO POLITICO, dtype: int64"
            ]
          },
          "metadata": {},
          "execution_count": 2
        }
      ]
    },
    {
      "cell_type": "code",
      "source": [
        "# Exibir a mesma informação anterior, porém no formato de gráfico \n",
        "dados['ESPECTRO POLITICO'].hist()"
      ],
      "metadata": {
        "colab": {
          "base_uri": "https://localhost:8080/",
          "height": 282
        },
        "id": "K70rS9ODRAd-",
        "outputId": "7f754b40-f41a-41ef-f32f-76f93ecd2367"
      },
      "execution_count": null,
      "outputs": [
        {
          "output_type": "execute_result",
          "data": {
            "text/plain": [
              "<matplotlib.axes._subplots.AxesSubplot at 0x7fbd03d03450>"
            ]
          },
          "metadata": {},
          "execution_count": 3
        },
        {
          "output_type": "display_data",
          "data": {
            "text/plain": [
              "<Figure size 432x288 with 1 Axes>"
            ],
            "image/png": "[encoded data removed]"
          },
          "metadata": {
            "needs_background": "light"
          }
        }
      ]
    },
    {
      "cell_type": "code",
      "source": [
        "# Como durante a sondagem dos dados percebi que possuiamos dados não informados\n",
        "# tive a curiosidade de ver o quanto eles representam \n",
        "dados.isnull().sum()"
      ],
      "metadata": {
        "colab": {
          "base_uri": "https://localhost:8080/"
        },
        "id": "0jmjA8-QLoiI",
        "outputId": "97578a2f-2034-4f61-99cd-6cf42e8a4d08"
      },
      "execution_count": null,
      "outputs": [
        {
          "output_type": "execute_result",
          "data": {
            "text/plain": [
              "Unnamed: 0                          0\n",
              "ZONA                                0\n",
              "SEÇÃO                               0\n",
              "CD_MUNICIPIO                        0\n",
              "MUNICIPIO                           0\n",
              "ANO_ELEICAO                         0\n",
              "UF                                  0\n",
              "FEMININO                            0\n",
              "MASCULINO                           0\n",
              "GÊNERO NÃO INFORMADO             8907\n",
              "CASADO                              1\n",
              "DIVORCIADO                        556\n",
              "ESTADO CIVIL NÃO INFORMADO       8904\n",
              "SEPARADO JUDICIALMENTE           2129\n",
              "SOLTEIRO                            0\n",
              "VIÚVO                             292\n",
              "Idade 100 anos ou mais              0\n",
              "Idade 16 anos                       0\n",
              "Idade 17 anos                       0\n",
              "Idade 18 anos                       0\n",
              "Idade 19 anos                       0\n",
              "Idade 20 anos                       0\n",
              "Idade 21 a 24 anos                  0\n",
              "Idade 25 a 29 anos                  0\n",
              "Idade 30 a 34 anos                  0\n",
              "Idade 35 a 39 anos                  0\n",
              "Idade 40 a 44 anos                  0\n",
              "Idade 45 a 49 anos                  0\n",
              "Idade 50 a 54 anos                  0\n",
              "Idade 55 a 59 anos                  0\n",
              "Idade 60 a 64 anos                  0\n",
              "Idade 65 a 69 anos                  0\n",
              "Idade 70 a 74 anos                  0\n",
              "Idade 75 a 79 anos                  0\n",
              "Idade 80 a 84 anos                  0\n",
              "Idade 85 a 89 anos                  0\n",
              "Idade 90 a 94 anos                  0\n",
              "Idade 95 a 99 anos                  0\n",
              "Idade Inválido                      0\n",
              "ANALFABETO                          0\n",
              "ENSINO FUNDAMENTAL COMPLETO         0\n",
              "ENSINO FUNDAMENTAL INCOMPLETO       0\n",
              "ENSINO MÉDIO COMPLETO               0\n",
              "ENSINO MÉDIO INCOMPLETO             0\n",
              "LÊ E ESCREVE                        0\n",
              "NÃO INFORMADO                       0\n",
              "SUPERIOR COMPLETO                   0\n",
              "SUPERIOR INCOMPLETO                 0\n",
              "TOTAL_ELEITORES                     0\n",
              "ESPECTRO POLITICO                   0\n",
              "TOTAL_VOTOS                         0\n",
              "dtype: int64"
            ]
          },
          "metadata": {},
          "execution_count": 4
        }
      ]
    },
    {
      "cell_type": "code",
      "source": [
        "# Criei essa variavel somente para o código ficar mais legivel e menos repetitivo \n",
        "# estou excluído os campos com grande número de dados nulos \n",
        "colunas_escolhidas = [\n",
        "    'ZONA', 'SEÇÃO', 'MUNICIPIO', 'FEMININO', 'MASCULINO',\n",
        "    'CASADO', 'DIVORCIADO', 'SOLTEIRO', 'VIÚVO', 'Idade 100 anos ou mais',\n",
        "    'Idade 16 anos', 'Idade 17 anos', 'Idade 18 anos', 'Idade 19 anos',\n",
        "    'Idade 20 anos', 'Idade 21 a 24 anos', 'Idade 25 a 29 anos',\n",
        "    'Idade 30 a 34 anos', 'Idade 35 a 39 anos', 'Idade 40 a 44 anos',\n",
        "    'Idade 45 a 49 anos', 'Idade 50 a 54 anos', 'Idade 55 a 59 anos',\n",
        "    'Idade 60 a 64 anos', 'Idade 65 a 69 anos', 'Idade 70 a 74 anos',\n",
        "    'Idade 75 a 79 anos', 'Idade 80 a 84 anos', 'Idade 85 a 89 anos',\n",
        "    'Idade 90 a 94 anos', 'Idade 95 a 99 anos', 'Idade Inválido',\n",
        "    'ANALFABETO', 'ENSINO FUNDAMENTAL COMPLETO',\n",
        "    'ENSINO FUNDAMENTAL INCOMPLETO', 'ENSINO MÉDIO COMPLETO',\n",
        "    'ENSINO MÉDIO INCOMPLETO', 'LÊ E ESCREVE', 'NÃO INFORMADO',\n",
        "    'SUPERIOR COMPLETO', 'SUPERIOR INCOMPLETO'\n",
        "]\n",
        "\n",
        "# a variável X define quais são os valores que o ML deverá utilizar para o aprendizado \n",
        "x = pd.DataFrame(data = dados[colunas_escolhidas], columns = colunas_escolhidas)\n",
        "\n",
        "# já a coluna Y representa quais são os alvos ou respostas que o aprendizado deve alcançar \n",
        "y = pd.DataFrame(data = dados[\"ESPECTRO POLITICO\"], columns = ['ESPECTRO POLITICO'])\n",
        "\n",
        "#Para substituir possíveis valores NA executei esse comando para substituí-los por ZERO  \n",
        "x.fillna(0, inplace=True)\n",
        "y.fillna(0, inplace=True)\n"
      ],
      "metadata": {
        "id": "wpJs23v_Oj2R"
      },
      "execution_count": null,
      "outputs": []
    },
    {
      "cell_type": "code",
      "source": [
        "# municipio é um dado de texto, redes neurais não trabalha com textos \n",
        "x.info()"
      ],
      "metadata": {
        "colab": {
          "base_uri": "https://localhost:8080/"
        },
        "id": "EuC-tsLLORUR",
        "outputId": "10910997-9123-4731-e82b-1e85c365ce36"
      },
      "execution_count": null,
      "outputs": [
        {
          "output_type": "stream",
          "name": "stdout",
          "text": [
            "<class 'pandas.core.frame.DataFrame'>\n",
            "RangeIndex: 8908 entries, 0 to 8907\n",
            "Data columns (total 41 columns):\n",
            " #   Column                         Non-Null Count  Dtype  \n",
            "---  ------                         --------------  -----  \n",
            " 0   ZONA                           8908 non-null   int64  \n",
            " 1   SEÇÃO                          8908 non-null   int64  \n",
            " 2   MUNICIPIO                      8908 non-null   object \n",
            " 3   FEMININO                       8908 non-null   float64\n",
            " 4   MASCULINO                      8908 non-null   float64\n",
            " 5   CASADO                         8908 non-null   float64\n",
            " 6   DIVORCIADO                     8908 non-null   float64\n",
            " 7   SOLTEIRO                       8908 non-null   float64\n",
            " 8   VIÚVO                          8908 non-null   float64\n",
            " 9   Idade 100 anos ou mais         8908 non-null   float64\n",
            " 10  Idade 16 anos                  8908 non-null   float64\n",
            " 11  Idade 17 anos                  8908 non-null   float64\n",
            " 12  Idade 18 anos                  8908 non-null   float64\n",
            " 13  Idade 19 anos                  8908 non-null   float64\n",
            " 14  Idade 20 anos                  8908 non-null   float64\n",
            " 15  Idade 21 a 24 anos             8908 non-null   float64\n",
            " 16  Idade 25 a 29 anos             8908 non-null   float64\n",
            " 17  Idade 30 a 34 anos             8908 non-null   float64\n",
            " 18  Idade 35 a 39 anos             8908 non-null   float64\n",
            " 19  Idade 40 a 44 anos             8908 non-null   float64\n",
            " 20  Idade 45 a 49 anos             8908 non-null   float64\n",
            " 21  Idade 50 a 54 anos             8908 non-null   float64\n",
            " 22  Idade 55 a 59 anos             8908 non-null   float64\n",
            " 23  Idade 60 a 64 anos             8908 non-null   float64\n",
            " 24  Idade 65 a 69 anos             8908 non-null   float64\n",
            " 25  Idade 70 a 74 anos             8908 non-null   float64\n",
            " 26  Idade 75 a 79 anos             8908 non-null   float64\n",
            " 27  Idade 80 a 84 anos             8908 non-null   float64\n",
            " 28  Idade 85 a 89 anos             8908 non-null   float64\n",
            " 29  Idade 90 a 94 anos             8908 non-null   float64\n",
            " 30  Idade 95 a 99 anos             8908 non-null   float64\n",
            " 31  Idade Inválido                 8908 non-null   float64\n",
            " 32  ANALFABETO                     8908 non-null   float64\n",
            " 33  ENSINO FUNDAMENTAL COMPLETO    8908 non-null   float64\n",
            " 34  ENSINO FUNDAMENTAL INCOMPLETO  8908 non-null   float64\n",
            " 35  ENSINO MÉDIO COMPLETO          8908 non-null   float64\n",
            " 36  ENSINO MÉDIO INCOMPLETO        8908 non-null   float64\n",
            " 37  LÊ E ESCREVE                   8908 non-null   float64\n",
            " 38  NÃO INFORMADO                  8908 non-null   float64\n",
            " 39  SUPERIOR COMPLETO              8908 non-null   float64\n",
            " 40  SUPERIOR INCOMPLETO            8908 non-null   float64\n",
            "dtypes: float64(38), int64(2), object(1)\n",
            "memory usage: 2.8+ MB\n"
          ]
        }
      ]
    },
    {
      "cell_type": "code",
      "source": [
        "# Com base no comando anterior foi notado que a coluna \"MUNICIPIO\" está como \"object\" \n",
        "# As redes neurais, preferenciamente devem trabalhar com campos do tipo numérico,\n",
        "# diante disso existe a necessidade de realizar essa transformação\n",
        "\n",
        "enc = OneHotEncoder(handle_unknown=\"ignore\")\n",
        "\n",
        "# Vou pegar a coluna Município do DataFrame inicial \n",
        "municipios = pd.DataFrame(data = dados[\"MUNICIPIO\"], columns = ['MUNICIPIO'])\n",
        "enc.fit(municipios)\n",
        "\n",
        "# Vou criar um novo dataframe com os municípios \n",
        "# o comando enc.transform(municipios).toarray() retorna um array de valores \n",
        "# o comando enc.categories_ retorna o titulo das colunas \n",
        "df_municipios = pd.DataFrame(enc.transform(municipios).toarray(), columns = enc.categories_)\n",
        "\n",
        "# apenas para visualizar a conversão\n",
        "df_municipios.info()"
      ],
      "metadata": {
        "colab": {
          "base_uri": "https://localhost:8080/"
        },
        "id": "dEzSOo60AkUV",
        "outputId": "f149d63d-b1a8-4bb9-fc1c-93cf0263b567"
      },
      "execution_count": null,
      "outputs": [
        {
          "output_type": "stream",
          "name": "stdout",
          "text": [
            "<class 'pandas.core.frame.DataFrame'>\n",
            "RangeIndex: 8908 entries, 0 to 8907\n",
            "Columns: 221 entries, ('ACAUÃ',) to ('ÁGUA BRANCA',)\n",
            "dtypes: float64(221)\n",
            "memory usage: 15.0 MB\n"
          ]
        }
      ]
    },
    {
      "cell_type": "code",
      "source": [
        "# Diante disso vou remover a coluna município \n",
        "colunas_escolhidas = [\n",
        "    'ZONA', 'SEÇÃO', 'FEMININO', 'MASCULINO', \n",
        "    'CASADO', 'DIVORCIADO', 'SOLTEIRO', 'VIÚVO', 'Idade 100 anos ou mais',\n",
        "    'Idade 16 anos', 'Idade 17 anos', 'Idade 18 anos', 'Idade 19 anos',\n",
        "    'Idade 20 anos', 'Idade 21 a 24 anos', 'Idade 25 a 29 anos',\n",
        "    'Idade 30 a 34 anos', 'Idade 35 a 39 anos', 'Idade 40 a 44 anos',\n",
        "    'Idade 45 a 49 anos', 'Idade 50 a 54 anos', 'Idade 55 a 59 anos',\n",
        "    'Idade 60 a 64 anos', 'Idade 65 a 69 anos', 'Idade 70 a 74 anos',\n",
        "    'Idade 75 a 79 anos', 'Idade 80 a 84 anos', 'Idade 85 a 89 anos',\n",
        "    'Idade 90 a 94 anos', 'Idade 95 a 99 anos', 'Idade Inválido',\n",
        "    'ANALFABETO', 'ENSINO FUNDAMENTAL COMPLETO',\n",
        "    'ENSINO FUNDAMENTAL INCOMPLETO', 'ENSINO MÉDIO COMPLETO',\n",
        "    'ENSINO MÉDIO INCOMPLETO', 'LÊ E ESCREVE', 'NÃO INFORMADO',\n",
        "    'SUPERIOR COMPLETO', 'SUPERIOR INCOMPLETO'\n",
        "]\n",
        "# Recriar o dataframe sem a coluna município \n",
        "x = pd.DataFrame(data = dados[colunas_escolhidas], columns = colunas_escolhidas)"
      ],
      "metadata": {
        "id": "COp-P9mcNliN"
      },
      "execution_count": null,
      "outputs": []
    },
    {
      "cell_type": "code",
      "source": [
        "# Unir o novo dataframe x com o data frame do municipios\n",
        "x = pd.concat([x, df_municipios], axis=1)\n",
        "# remove novamente os NA caso existam \n",
        "x.fillna(0, inplace=True)"
      ],
      "metadata": {
        "id": "IpgdCE0zRWoJ"
      },
      "execution_count": null,
      "outputs": []
    },
    {
      "cell_type": "code",
      "source": [
        "#\n",
        "# Depois que rodei o script por completo tentei realizar otimizações, e \n",
        "# verifiquei se eu agrupar as idades com conjuntos a IA teria maior \n",
        "# assertividade, tradicionalmente, uma população é dividida em \n",
        "# três faixas etárias: \n",
        "# Jovens - Indivíduos de até 19 anos; \n",
        "# Adultos - Indivíduos com idade entre 20 até 59 anos; \n",
        "# Idosos - Indivíduos de 60 anos em diante\n",
        "# Para isso eu fiz\n",
        "#\n",
        "jovens = dados[\"Idade 16 anos\"]+dados['Idade 17 anos'] \n",
        "\n",
        "adultos = dados['Idade 18 anos']+dados['Idade 19 anos']+ \\\n",
        "    dados['Idade 20 anos']+dados['Idade 21 a 24 anos']+ \\\n",
        "    dados['Idade 25 a 29 anos']+dados['Idade 30 a 34 anos']+ \\\n",
        "    dados['Idade 35 a 39 anos']+dados['Idade 40 a 44 anos']+ \\\n",
        "    dados['Idade 45 a 49 anos']+dados['Idade 50 a 54 anos']+ \\\n",
        "    dados['Idade 55 a 59 anos']\n",
        "\n",
        "idosos = dados['Idade 60 a 64 anos']+dados['Idade 65 a 69 anos']+ \\\n",
        "    dados['Idade 70 a 74 anos']+dados['Idade 75 a 79 anos']+ \\\n",
        "    dados['Idade 80 a 84 anos']+dados['Idade 85 a 89 anos']+ \\\n",
        "    dados['Idade 90 a 94 anos']+dados['Idade 95 a 99 anos']\n",
        "\n",
        "colunas_escolhidas = [\n",
        "    'ZONA', 'SEÇÃO', 'FEMININO', 'MASCULINO', \n",
        "    'CASADO', 'DIVORCIADO', 'SOLTEIRO', 'VIÚVO', 'Idade 100 anos ou mais',\n",
        "    'Idade Inválido',\n",
        "    'ANALFABETO', 'ENSINO FUNDAMENTAL COMPLETO',\n",
        "    'ENSINO FUNDAMENTAL INCOMPLETO', 'ENSINO MÉDIO COMPLETO',\n",
        "    'ENSINO MÉDIO INCOMPLETO', 'LÊ E ESCREVE', 'NÃO INFORMADO',\n",
        "    'SUPERIOR COMPLETO', 'SUPERIOR INCOMPLETO'\n",
        "]\n",
        "x = pd.DataFrame(data = dados[colunas_escolhidas], columns = colunas_escolhidas)\n",
        "\n",
        "# Concatenando com municípios \n",
        "x = pd.concat([x, df_municipios], axis=1)\n",
        "\n",
        "# Concatenando com as idades \n",
        "x = pd.concat([x, jovens], axis=1)\n",
        "x = pd.concat([x, adultos], axis=1)\n",
        "x = pd.concat([x, idosos], axis=1)\n",
        "\n",
        "x.fillna(0, inplace=True)"
      ],
      "metadata": {
        "id": "-ZgjbEDFzBHC"
      },
      "execution_count": null,
      "outputs": []
    },
    {
      "cell_type": "code",
      "source": [
        "# A coluna alvo (target) também lida com valores tipo texto, \n",
        "# porem como são apenas 3 categorias farei substituição simples com replace \n",
        "\n",
        "dados['ESPECTRO POLITICO'] = dados['ESPECTRO POLITICO'].replace('Direita',0)\n",
        "dados['ESPECTRO POLITICO'] = dados['ESPECTRO POLITICO'].replace('Centro-esquerda',1)\n",
        "dados['ESPECTRO POLITICO'] = dados['ESPECTRO POLITICO'].replace('Centro',2)\n",
        "\n",
        "# Criação do novo dataframe com os targets \n",
        "y = dados['ESPECTRO POLITICO']"
      ],
      "metadata": {
        "id": "jrXei8WUU9AS"
      },
      "execution_count": null,
      "outputs": []
    },
    {
      "cell_type": "markdown",
      "source": [
        "# Preparação para rodar as IAs "
      ],
      "metadata": {
        "id": "RNCPKOzoZxCd"
      }
    },
    {
      "cell_type": "code",
      "source": [
        "# Utilizarei o StratifiedKFold para manter a proporção dos dados \n",
        "#  Visto que os dados estão desbalanceados \n",
        "n_folds = 5 \n",
        "execucoes = 5\n",
        "n_vizinhos = 3\n",
        "\n",
        "# Linha necessária para manter as proporções de classes\n",
        "skf = StratifiedKFold(n_splits=n_folds, shuffle=True)\n",
        "\n",
        "# armazenar nos resultados \n",
        "lista_f1_scores_knn = []\n",
        "lista_f1_scores_classifier = []\n",
        "\n",
        "# Durante a execução do código foram exibidas diversas mensagems de Warnings \n",
        "# relacionadas com \"FutureWarning\", as duas linhas abaixo desativam as mensagens \n",
        "# de alerta relacionadas a \"FutureWarning\" \n",
        "from warnings import simplefilter\n",
        "simplefilter(action='ignore', category=FutureWarning)"
      ],
      "metadata": {
        "id": "udmw1BryVtxJ"
      },
      "execution_count": null,
      "outputs": []
    },
    {
      "cell_type": "code",
      "source": [
        "# Preencher os folders\n",
        "index = 0\n",
        "for train_index, val_index in skf.split(x, y):\n",
        "  x_train = x.iloc[train_index, :] \n",
        "  x_test = x.iloc[val_index, :]\n",
        "  y_train = y.iloc[train_index]\n",
        "  y_test = y.iloc[val_index]\n",
        "  index=index+1\n",
        "  print(f\"Folder nº {index}\")\n",
        "\n",
        "  # Para cada folder irei rodar uma estratégia de ML \n",
        "  for run in range(execucoes):\n",
        "    print(f\"           Execução nº {run+1}\")\n",
        "\n",
        "    #\n",
        "    # Primeira estratégia o KNN \n",
        "    #\n",
        "    modelo_knn = KNeighborsClassifier(n_neighbors=n_vizinhos)\n",
        "    modelo_knn.fit(x_train, y_train.values.ravel())\n",
        "\n",
        "    val_preds_knn = modelo_knn.predict(x_test)\n",
        "    \n",
        "    # Acumula os valores \n",
        "    lista_f1_scores_knn.append(f1_score(y_test, val_preds_knn, average=\"weighted\"))\n",
        "\n",
        "\n",
        "    #\n",
        "    # Segunda estratégia Regressão\n",
        "    # \n",
        "    model_classifier = MLPClassifier(max_iter=1000, tol=0.0000100)\n",
        "    # Max_iter = limite de épocas \n",
        "    # tol=0.0000100 = Definindo o limite de tolerancia, pois ele pode não executar\n",
        "    # até o limite de MAX_INTER se a variação de erro padrão for atingida\n",
        "    model_classifier.fit(x_train, y_train.values.ravel())\n",
        "    previsoes = model_classifier.predict(x_test)\n",
        "\n",
        "    lista_f1_scores_classifier.append(f1_score(y_test, previsoes, average=\"weighted\" ))\n",
        "\n",
        "print(\"Finalizado\")"
      ],
      "metadata": {
        "colab": {
          "base_uri": "https://localhost:8080/"
        },
        "id": "GohJmrWesS3E",
        "outputId": "0515a2bc-17cc-45f1-dec0-7d67dab9b895"
      },
      "execution_count": null,
      "outputs": [
        {
          "output_type": "stream",
          "name": "stdout",
          "text": [
            "Folder nº 1\n",
            "           Execução nº 1\n",
            "           Execução nº 2\n",
            "           Execução nº 3\n",
            "           Execução nº 4\n",
            "           Execução nº 5\n",
            "Folder nº 2\n",
            "           Execução nº 1\n",
            "           Execução nº 2\n",
            "           Execução nº 3\n",
            "           Execução nº 4\n",
            "           Execução nº 5\n",
            "Folder nº 3\n",
            "           Execução nº 1\n",
            "           Execução nº 2\n",
            "           Execução nº 3\n",
            "           Execução nº 4\n",
            "           Execução nº 5\n",
            "Folder nº 4\n",
            "           Execução nº 1\n",
            "           Execução nº 2\n",
            "           Execução nº 3\n",
            "           Execução nº 4\n",
            "           Execução nº 5\n",
            "Folder nº 5\n",
            "           Execução nº 1\n",
            "           Execução nº 2\n",
            "           Execução nº 3\n",
            "           Execução nº 4\n",
            "           Execução nº 5\n",
            "Finalizado\n"
          ]
        }
      ]
    },
    {
      "cell_type": "code",
      "source": [
        "# Realizando os calculos \n",
        "acuracias_knn = np.array(lista_f1_scores_knn)\n",
        "acuracia_knn = acuracias_knn.mean()  # médias\n",
        "acuracia_knn_std = acuracias_knn.std() # desvio\n",
        "print(f\"Para o modelo KNN a média da acurácia foi {round(acuracia_knn*100,2)}% e o desvio padrão foi {round(acuracia_knn_std,2)}\")\n",
        "\n",
        "acuracias_classifier = np.array(lista_f1_scores_classifier)\n",
        "acuracias_classifier_mean = acuracias_classifier.mean()\n",
        "acuracias_classifier_std = acuracias_classifier.std()\n",
        "print(f\"Para o modelo ML Classificação a média da acurária foi {round(acuracias_classifier_mean*100,2)}% com  desvio padrão de {round(acuracias_classifier_std,2)}\")\n"
      ],
      "metadata": {
        "colab": {
          "base_uri": "https://localhost:8080/"
        },
        "id": "3cGqR5BNYmEZ",
        "outputId": "d624f15a-df19-4bfa-b107-d650218777b8"
      },
      "execution_count": null,
      "outputs": [
        {
          "output_type": "stream",
          "name": "stdout",
          "text": [
            "Para o modelo KNN a média da acurácia foi 78.09% e o desvio padrão foi 0.01\n",
            "Para o modelo ML Classificação a média da acurária foi 84.98% com  desvio padrão de 0.02\n"
          ]
        }
      ]
    },
    {
      "cell_type": "code",
      "source": [
        "from sklearn.metrics import confusion_matrix\n",
        "import matplotlib.pyplot as plt\n",
        "\n",
        "plot_confusion_matrix(modelo_knn, x_test, y_test) "
      ],
      "metadata": {
        "id": "fPyOMehKZ0uo",
        "colab": {
          "base_uri": "https://localhost:8080/",
          "height": 296
        },
        "outputId": "4da0fbc5-cbaa-46a7-d697-6c50d99bfd67"
      },
      "execution_count": null,
      "outputs": [
        {
          "output_type": "execute_result",
          "data": {
            "text/plain": [
              "<sklearn.metrics._plot.confusion_matrix.ConfusionMatrixDisplay at 0x7fbd03caebd0>"
            ]
          },
          "metadata": {},
          "execution_count": 15
        },
        {
          "output_type": "display_data",
          "data": {
            "text/plain": [
              "<Figure size 432x288 with 2 Axes>"
            ],
            "image/png": "[encoded data removed]"
          },
          "metadata": {
            "needs_background": "light"
          }
        }
      ]
    },
    {
      "cell_type": "code",
      "source": [
        "plot_confusion_matrix(model_classifier, x_test, y_test) "
      ],
      "metadata": {
        "colab": {
          "base_uri": "https://localhost:8080/",
          "height": 296
        },
        "id": "eeTMU1m0i11X",
        "outputId": "897f3dff-bda6-4b82-d53e-b692014503c9"
      },
      "execution_count": null,
      "outputs": [
        {
          "output_type": "execute_result",
          "data": {
            "text/plain": [
              "<sklearn.metrics._plot.confusion_matrix.ConfusionMatrixDisplay at 0x7fbd00e66110>"
            ]
          },
          "metadata": {},
          "execution_count": 16
        },
        {
          "output_type": "display_data",
          "data": {
            "text/plain": [
              "<Figure size 432x288 with 2 Axes>"
            ],
            "image/png": "[encoded data removed]"
          },
          "metadata": {
            "needs_background": "light"
          }
        }
      ]
    }
  ]
}